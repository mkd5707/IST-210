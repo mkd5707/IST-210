{
  "nbformat": 4,
  "nbformat_minor": 0,
  "metadata": {
    "colab": {
      "name": "ER Diagram.ipynb",
      "provenance": [],
      "authorship_tag": "ABX9TyOn+G4SMFnZWneRipSvqnVa",
      "include_colab_link": true
    },
    "kernelspec": {
      "name": "python3",
      "display_name": "Python 3"
    }
  },
  "cells": [
    {
      "cell_type": "markdown",
      "metadata": {
        "id": "view-in-github",
        "colab_type": "text"
      },
      "source": [
        "<a href=\"https://colab.research.google.com/github/mkd5707/IST-210/blob/master/ER_Diagram.ipynb\" target=\"_parent\"><img src=\"https://colab.research.google.com/assets/colab-badge.svg\" alt=\"Open In Colab\"/></a>"
      ]
    },
    {
      "cell_type": "code",
      "metadata": {
        "id": "h_102ZgcLvwe"
      },
      "source": [
        ""
      ],
      "execution_count": null,
      "outputs": []
    },
    {
      "cell_type": "markdown",
      "metadata": {
        "id": "gNt_e6ugMA5P"
      },
      "source": [
        "![ER Diagram](https://raw.githubusercontent.com/mkd5707/IST-210/master/ER%20Diagram.png)"
      ]
    },
    {
      "cell_type": "markdown",
      "metadata": {
        "id": "i99rQ-DgMcYd"
      },
      "source": [
        "I started my project by representing one pet store(1,1) which sells to many customers(0,10000). I then showed how one customer(1,1) can choose or buy a variety of pets(0,100). I used a foreign key to display that customers can use their first name to have access to buy pets. I also showed that one enclosure(1,1) can hold up to 50 pets(0,50). After that, I showed how one customer(1,1) can buy 1,000 different types of pet food(0,1000). I finished by showing that 100 types of pets(1,100) can eat up to 100 different types of foods(1,100)."
      ]
    }
  ]
}