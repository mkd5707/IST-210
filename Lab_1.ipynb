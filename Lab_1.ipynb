{
  "nbformat": 4,
  "nbformat_minor": 0,
  "metadata": {
    "colab": {
      "name": "Lab 1.ipynb",
      "provenance": [],
      "collapsed_sections": [],
      "authorship_tag": "ABX9TyO9ImXcKL7yBMFZbDsR3WOI",
      "include_colab_link": true
    },
    "kernelspec": {
      "name": "python3",
      "display_name": "Python 3"
    }
  },
  "cells": [
    {
      "cell_type": "markdown",
      "metadata": {
        "id": "view-in-github",
        "colab_type": "text"
      },
      "source": [
        "<a href=\"https://colab.research.google.com/github/mkd5707/IST-210/blob/master/Lab_1.ipynb\" target=\"_parent\"><img src=\"https://colab.research.google.com/assets/colab-badge.svg\" alt=\"Open In Colab\"/></a>"
      ]
    },
    {
      "cell_type": "markdown",
      "metadata": {
        "id": "vIWBKV8EguOP",
        "colab_type": "text"
      },
      "source": [
        "## Do you like using Jupyter Notebooks?\n"
      ]
    },
    {
      "cell_type": "markdown",
      "metadata": {
        "id": "9o9qYc4qgy-m",
        "colab_type": "text"
      },
      "source": [
        "Yes, I like using Jupyter Notebooks so far even though I have barely used it. I like using it so far because it contains three different programming languages.\n"
      ]
    },
    {
      "cell_type": "markdown",
      "metadata": {
        "id": "R_sOkrf7g3jA",
        "colab_type": "text"
      },
      "source": [
        "## What do you want to learn more about in Jupyter Notebooks?\n"
      ]
    },
    {
      "cell_type": "markdown",
      "metadata": {
        "id": "fuQ8CjKxhMXs",
        "colab_type": "text"
      },
      "source": [
        "I want to learn how to use python. I also want to learn how to create and share code."
      ]
    },
    {
      "cell_type": "markdown",
      "metadata": {
        "id": "UFzV9wfjjF0A",
        "colab_type": "text"
      },
      "source": [
        "![Mona Lisa Painting](https://raw.githubusercontent.com/mkd5707/IST-210/master/Images/mona-lisa.jpg)"
      ]
    }
  ]
}